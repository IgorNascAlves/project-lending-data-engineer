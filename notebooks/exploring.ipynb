{
 "cells": [
  {
   "cell_type": "markdown",
   "metadata": {},
   "source": [
    "# SQL and Data Viz"
   ]
  },
  {
   "cell_type": "markdown",
   "metadata": {},
   "source": [
    "1. Identify the best month in terms of loan issuance. What was the quantity and amount lent in each month?\n",
    "2. Which batch had the best overall adherence?\n",
    "3. Do different interest rates lead to different loan outcomes in terms of default rate?\n",
    "4. Rank the best 10 and 10 worst clients. Explain your methodology for constructing this ranking.\n",
    "5. What is the default rate by month and batch?\n",
    "6. Assess the profitability of this operation. Provide an analysis of the operation's timeline."
   ]
  },
  {
   "cell_type": "markdown",
   "metadata": {},
   "source": [
    "> adherence: clients that got loans\\\n",
    "> season: loan issuing month\\\n",
    "> default rate: defaulted/issued loans"
   ]
  },
  {
   "cell_type": "markdown",
   "metadata": {},
   "source": [
    "## Importing Libraries and Establishing Database Connection"
   ]
  },
  {
   "cell_type": "code",
   "execution_count": 1,
   "metadata": {},
   "outputs": [],
   "source": [
    "import pandas as pd\n",
    "from sqlalchemy import create_engine\n",
    "from dotenv import load_dotenv\n",
    "import os"
   ]
  },
  {
   "cell_type": "code",
   "execution_count": 2,
   "metadata": {},
   "outputs": [
    {
     "data": {
      "text/plain": [
       "True"
      ]
     },
     "execution_count": 2,
     "metadata": {},
     "output_type": "execute_result"
    }
   ],
   "source": [
    "# Load environment variables from .env file\n",
    "load_dotenv()"
   ]
  },
  {
   "cell_type": "code",
   "execution_count": 3,
   "metadata": {},
   "outputs": [],
   "source": [
    "# # Function to establish a connection to the PostgreSQL database\n",
    "# def create_connection():\n",
    "#     connection = psycopg2.connect(\n",
    "#         user=os.getenv(\"DB_USER\"),\n",
    "#         password=os.getenv(\"DB_PASSWORD\"),\n",
    "#         host=os.getenv(\"DB_HOST\"),\n",
    "#         port=os.getenv(\"DB_PORT\"),\n",
    "#         database=os.getenv(\"DB_NAME\")\n",
    "#     )\n",
    "#     return connection"
   ]
  },
  {
   "cell_type": "code",
   "execution_count": 4,
   "metadata": {},
   "outputs": [],
   "source": [
    "# # Function to execute SQL queries and return results as a pandas DataFrame\n",
    "# def execute_query(query):\n",
    "#     connection = create_connection()\n",
    "#     df = pd.read_sql_query(query, connection)\n",
    "#     connection.close()\n",
    "#     return df"
   ]
  },
  {
   "cell_type": "code",
   "execution_count": 5,
   "metadata": {},
   "outputs": [],
   "source": [
    "# Function to execute SQL queries and return results as a pandas DataFrame\n",
    "def execute_query(query):\n",
    "    # Create a SQLAlchemy engine\n",
    "    engine = create_engine(f\"postgresql+psycopg2://{os.getenv('DB_USER')}:{os.getenv('DB_PASSWORD')}@{os.getenv('DB_HOST')}:{os.getenv('DB_PORT')}/{os.getenv('DB_NAME')}\")\n",
    "    \n",
    "    # Execute the query and return the result as a DataFrame\n",
    "    with engine.connect() as connection:\n",
    "        df = pd.read_sql_query(query, connection)\n",
    "    return df"
   ]
  },
  {
   "cell_type": "code",
   "execution_count": 6,
   "metadata": {},
   "outputs": [],
   "source": [
    "# Query to select all data from the Clients table\n",
    "clients_query = \"SELECT * FROM Clients;\"\n"
   ]
  },
  {
   "cell_type": "code",
   "execution_count": 7,
   "metadata": {},
   "outputs": [],
   "source": [
    "# Query to select all data from the Loans table\n",
    "loans_query = \"SELECT * FROM Loans;\"\n"
   ]
  },
  {
   "cell_type": "code",
   "execution_count": 8,
   "metadata": {},
   "outputs": [],
   "source": [
    "# Load data from Clients and Loans tables into pandas DataFrames\n",
    "clients_df = execute_query(clients_query)\n",
    "loans_df = execute_query(loans_query)\n"
   ]
  },
  {
   "cell_type": "code",
   "execution_count": 9,
   "metadata": {},
   "outputs": [
    {
     "data": {
      "text/html": [
       "<div>\n",
       "<style scoped>\n",
       "    .dataframe tbody tr th:only-of-type {\n",
       "        vertical-align: middle;\n",
       "    }\n",
       "\n",
       "    .dataframe tbody tr th {\n",
       "        vertical-align: top;\n",
       "    }\n",
       "\n",
       "    .dataframe thead th {\n",
       "        text-align: right;\n",
       "    }\n",
       "</style>\n",
       "<table border=\"1\" class=\"dataframe\">\n",
       "  <thead>\n",
       "    <tr style=\"text-align: right;\">\n",
       "      <th></th>\n",
       "      <th>user_id</th>\n",
       "      <th>created_at</th>\n",
       "      <th>status</th>\n",
       "      <th>batch</th>\n",
       "      <th>credit_limit</th>\n",
       "      <th>interest_rate</th>\n",
       "      <th>denied_reason</th>\n",
       "      <th>denied_at</th>\n",
       "    </tr>\n",
       "  </thead>\n",
       "  <tbody>\n",
       "    <tr>\n",
       "      <th>0</th>\n",
       "      <td>1</td>\n",
       "      <td>2023-09-18 16:05:36</td>\n",
       "      <td>approved</td>\n",
       "      <td>1</td>\n",
       "      <td>47500</td>\n",
       "      <td>30</td>\n",
       "      <td>None</td>\n",
       "      <td>NaT</td>\n",
       "    </tr>\n",
       "    <tr>\n",
       "      <th>1</th>\n",
       "      <td>2</td>\n",
       "      <td>2020-07-05 07:00:37</td>\n",
       "      <td>denied</td>\n",
       "      <td>1</td>\n",
       "      <td>59750</td>\n",
       "      <td>20</td>\n",
       "      <td>money_loundry</td>\n",
       "      <td>2023-07-29 02:48:33</td>\n",
       "    </tr>\n",
       "    <tr>\n",
       "      <th>2</th>\n",
       "      <td>3</td>\n",
       "      <td>2023-07-25 03:39:55</td>\n",
       "      <td>approved</td>\n",
       "      <td>1</td>\n",
       "      <td>73000</td>\n",
       "      <td>30</td>\n",
       "      <td>None</td>\n",
       "      <td>NaT</td>\n",
       "    </tr>\n",
       "    <tr>\n",
       "      <th>3</th>\n",
       "      <td>4</td>\n",
       "      <td>2022-07-01 01:28:58</td>\n",
       "      <td>approved</td>\n",
       "      <td>1</td>\n",
       "      <td>14250</td>\n",
       "      <td>20</td>\n",
       "      <td>None</td>\n",
       "      <td>NaT</td>\n",
       "    </tr>\n",
       "    <tr>\n",
       "      <th>4</th>\n",
       "      <td>5</td>\n",
       "      <td>2023-06-23 20:17:40</td>\n",
       "      <td>approved</td>\n",
       "      <td>1</td>\n",
       "      <td>23750</td>\n",
       "      <td>20</td>\n",
       "      <td>None</td>\n",
       "      <td>NaT</td>\n",
       "    </tr>\n",
       "  </tbody>\n",
       "</table>\n",
       "</div>"
      ],
      "text/plain": [
       "   user_id          created_at    status  batch  credit_limit  interest_rate  \\\n",
       "0        1 2023-09-18 16:05:36  approved      1         47500             30   \n",
       "1        2 2020-07-05 07:00:37    denied      1         59750             20   \n",
       "2        3 2023-07-25 03:39:55  approved      1         73000             30   \n",
       "3        4 2022-07-01 01:28:58  approved      1         14250             20   \n",
       "4        5 2023-06-23 20:17:40  approved      1         23750             20   \n",
       "\n",
       "   denied_reason           denied_at  \n",
       "0           None                 NaT  \n",
       "1  money_loundry 2023-07-29 02:48:33  \n",
       "2           None                 NaT  \n",
       "3           None                 NaT  \n",
       "4           None                 NaT  "
      ]
     },
     "execution_count": 9,
     "metadata": {},
     "output_type": "execute_result"
    }
   ],
   "source": [
    "# Display the first few rows of the Clients DataFrame\n",
    "\"Clients Data:\"\n",
    "clients_df.head()"
   ]
  },
  {
   "cell_type": "code",
   "execution_count": 10,
   "metadata": {},
   "outputs": [
    {
     "name": "stdout",
     "output_type": "stream",
     "text": [
      "\n",
      "Clients Data Statistics:\n"
     ]
    },
    {
     "data": {
      "text/html": [
       "<div>\n",
       "<style scoped>\n",
       "    .dataframe tbody tr th:only-of-type {\n",
       "        vertical-align: middle;\n",
       "    }\n",
       "\n",
       "    .dataframe tbody tr th {\n",
       "        vertical-align: top;\n",
       "    }\n",
       "\n",
       "    .dataframe thead th {\n",
       "        text-align: right;\n",
       "    }\n",
       "</style>\n",
       "<table border=\"1\" class=\"dataframe\">\n",
       "  <thead>\n",
       "    <tr style=\"text-align: right;\">\n",
       "      <th></th>\n",
       "      <th>user_id</th>\n",
       "      <th>created_at</th>\n",
       "      <th>batch</th>\n",
       "      <th>credit_limit</th>\n",
       "      <th>interest_rate</th>\n",
       "      <th>denied_at</th>\n",
       "    </tr>\n",
       "  </thead>\n",
       "  <tbody>\n",
       "    <tr>\n",
       "      <th>count</th>\n",
       "      <td>90000.000000</td>\n",
       "      <td>90000</td>\n",
       "      <td>90000.000000</td>\n",
       "      <td>90000.000000</td>\n",
       "      <td>90000.000000</td>\n",
       "      <td>18341</td>\n",
       "    </tr>\n",
       "    <tr>\n",
       "      <th>mean</th>\n",
       "      <td>45000.500000</td>\n",
       "      <td>2022-01-01 23:32:57.941388800</td>\n",
       "      <td>1.490000</td>\n",
       "      <td>50172.752778</td>\n",
       "      <td>52.497111</td>\n",
       "      <td>2023-02-20 09:45:18.857914112</td>\n",
       "    </tr>\n",
       "    <tr>\n",
       "      <th>min</th>\n",
       "      <td>1.000000</td>\n",
       "      <td>2020-01-01 00:00:29</td>\n",
       "      <td>1.000000</td>\n",
       "      <td>500.000000</td>\n",
       "      <td>20.000000</td>\n",
       "      <td>2020-01-21 01:57:34</td>\n",
       "    </tr>\n",
       "    <tr>\n",
       "      <th>25%</th>\n",
       "      <td>22500.750000</td>\n",
       "      <td>2020-12-31 06:06:37.500000</td>\n",
       "      <td>1.000000</td>\n",
       "      <td>25500.000000</td>\n",
       "      <td>20.000000</td>\n",
       "      <td>2022-09-03 20:40:23</td>\n",
       "    </tr>\n",
       "    <tr>\n",
       "      <th>50%</th>\n",
       "      <td>45000.500000</td>\n",
       "      <td>2022-01-01 19:56:10.500000</td>\n",
       "      <td>1.000000</td>\n",
       "      <td>50000.000000</td>\n",
       "      <td>30.000000</td>\n",
       "      <td>2023-05-28 04:49:14</td>\n",
       "    </tr>\n",
       "    <tr>\n",
       "      <th>75%</th>\n",
       "      <td>67500.250000</td>\n",
       "      <td>2023-01-02 21:06:10.249999872</td>\n",
       "      <td>2.000000</td>\n",
       "      <td>75000.000000</td>\n",
       "      <td>90.000000</td>\n",
       "      <td>2023-10-24 19:48:20</td>\n",
       "    </tr>\n",
       "    <tr>\n",
       "      <th>max</th>\n",
       "      <td>90000.000000</td>\n",
       "      <td>2024-01-01 23:49:18</td>\n",
       "      <td>4.000000</td>\n",
       "      <td>100000.000000</td>\n",
       "      <td>90.000000</td>\n",
       "      <td>2024-01-24 23:55:11</td>\n",
       "    </tr>\n",
       "    <tr>\n",
       "      <th>std</th>\n",
       "      <td>25980.906451</td>\n",
       "      <td>NaN</td>\n",
       "      <td>0.780965</td>\n",
       "      <td>28711.436188</td>\n",
       "      <td>28.657638</td>\n",
       "      <td>NaN</td>\n",
       "    </tr>\n",
       "  </tbody>\n",
       "</table>\n",
       "</div>"
      ],
      "text/plain": [
       "            user_id                     created_at         batch  \\\n",
       "count  90000.000000                          90000  90000.000000   \n",
       "mean   45000.500000  2022-01-01 23:32:57.941388800      1.490000   \n",
       "min        1.000000            2020-01-01 00:00:29      1.000000   \n",
       "25%    22500.750000     2020-12-31 06:06:37.500000      1.000000   \n",
       "50%    45000.500000     2022-01-01 19:56:10.500000      1.000000   \n",
       "75%    67500.250000  2023-01-02 21:06:10.249999872      2.000000   \n",
       "max    90000.000000            2024-01-01 23:49:18      4.000000   \n",
       "std    25980.906451                            NaN      0.780965   \n",
       "\n",
       "        credit_limit  interest_rate                      denied_at  \n",
       "count   90000.000000   90000.000000                          18341  \n",
       "mean    50172.752778      52.497111  2023-02-20 09:45:18.857914112  \n",
       "min       500.000000      20.000000            2020-01-21 01:57:34  \n",
       "25%     25500.000000      20.000000            2022-09-03 20:40:23  \n",
       "50%     50000.000000      30.000000            2023-05-28 04:49:14  \n",
       "75%     75000.000000      90.000000            2023-10-24 19:48:20  \n",
       "max    100000.000000      90.000000            2024-01-24 23:55:11  \n",
       "std     28711.436188      28.657638                            NaN  "
      ]
     },
     "execution_count": 10,
     "metadata": {},
     "output_type": "execute_result"
    }
   ],
   "source": [
    "# Basic statistics and information about the Clients DataFrame\n",
    "print(\"\\nClients Data Statistics:\")\n",
    "clients_df.describe()"
   ]
  },
  {
   "cell_type": "code",
   "execution_count": 11,
   "metadata": {},
   "outputs": [
    {
     "name": "stdout",
     "output_type": "stream",
     "text": [
      "\n",
      "Loans Data:\n"
     ]
    },
    {
     "data": {
      "text/html": [
       "<div>\n",
       "<style scoped>\n",
       "    .dataframe tbody tr th:only-of-type {\n",
       "        vertical-align: middle;\n",
       "    }\n",
       "\n",
       "    .dataframe tbody tr th {\n",
       "        vertical-align: top;\n",
       "    }\n",
       "\n",
       "    .dataframe thead th {\n",
       "        text-align: right;\n",
       "    }\n",
       "</style>\n",
       "<table border=\"1\" class=\"dataframe\">\n",
       "  <thead>\n",
       "    <tr style=\"text-align: right;\">\n",
       "      <th></th>\n",
       "      <th>user_id</th>\n",
       "      <th>loan_id</th>\n",
       "      <th>created_at</th>\n",
       "      <th>due_at</th>\n",
       "      <th>paid_at</th>\n",
       "      <th>status</th>\n",
       "      <th>loan_amount</th>\n",
       "      <th>tax</th>\n",
       "      <th>due_amount</th>\n",
       "      <th>amount_paid</th>\n",
       "    </tr>\n",
       "  </thead>\n",
       "  <tbody>\n",
       "    <tr>\n",
       "      <th>0</th>\n",
       "      <td>46937</td>\n",
       "      <td>1</td>\n",
       "      <td>2020-01-06 08:58:24</td>\n",
       "      <td>2020-04-05 08:58:24</td>\n",
       "      <td>2020-02-21 08:58:24</td>\n",
       "      <td>paid</td>\n",
       "      <td>16638.0</td>\n",
       "      <td>186.01</td>\n",
       "      <td>18071.86</td>\n",
       "      <td>18071.86</td>\n",
       "    </tr>\n",
       "    <tr>\n",
       "      <th>1</th>\n",
       "      <td>29211</td>\n",
       "      <td>2</td>\n",
       "      <td>2020-01-07 05:12:59</td>\n",
       "      <td>2020-04-06 05:12:59</td>\n",
       "      <td>2020-03-09 05:12:59</td>\n",
       "      <td>paid</td>\n",
       "      <td>1886.0</td>\n",
       "      <td>21.09</td>\n",
       "      <td>2331.44</td>\n",
       "      <td>2331.44</td>\n",
       "    </tr>\n",
       "    <tr>\n",
       "      <th>2</th>\n",
       "      <td>62030</td>\n",
       "      <td>3</td>\n",
       "      <td>2020-01-12 02:06:18</td>\n",
       "      <td>2020-04-11 02:06:18</td>\n",
       "      <td>NaT</td>\n",
       "      <td>default</td>\n",
       "      <td>39802.0</td>\n",
       "      <td>444.99</td>\n",
       "      <td>42237.09</td>\n",
       "      <td>4147.27</td>\n",
       "    </tr>\n",
       "    <tr>\n",
       "      <th>3</th>\n",
       "      <td>14500</td>\n",
       "      <td>4</td>\n",
       "      <td>2020-01-14 18:09:12</td>\n",
       "      <td>2020-04-13 18:09:12</td>\n",
       "      <td>2020-01-28 18:09:12</td>\n",
       "      <td>paid</td>\n",
       "      <td>5114.0</td>\n",
       "      <td>57.17</td>\n",
       "      <td>5554.72</td>\n",
       "      <td>5554.72</td>\n",
       "    </tr>\n",
       "    <tr>\n",
       "      <th>4</th>\n",
       "      <td>73480</td>\n",
       "      <td>5</td>\n",
       "      <td>2020-01-15 17:28:24</td>\n",
       "      <td>2020-04-14 17:28:24</td>\n",
       "      <td>2020-03-14 17:28:24</td>\n",
       "      <td>paid</td>\n",
       "      <td>22153.0</td>\n",
       "      <td>247.67</td>\n",
       "      <td>27385.10</td>\n",
       "      <td>27385.10</td>\n",
       "    </tr>\n",
       "  </tbody>\n",
       "</table>\n",
       "</div>"
      ],
      "text/plain": [
       "   user_id  loan_id          created_at              due_at  \\\n",
       "0    46937        1 2020-01-06 08:58:24 2020-04-05 08:58:24   \n",
       "1    29211        2 2020-01-07 05:12:59 2020-04-06 05:12:59   \n",
       "2    62030        3 2020-01-12 02:06:18 2020-04-11 02:06:18   \n",
       "3    14500        4 2020-01-14 18:09:12 2020-04-13 18:09:12   \n",
       "4    73480        5 2020-01-15 17:28:24 2020-04-14 17:28:24   \n",
       "\n",
       "              paid_at   status  loan_amount     tax  due_amount  amount_paid  \n",
       "0 2020-02-21 08:58:24     paid      16638.0  186.01    18071.86     18071.86  \n",
       "1 2020-03-09 05:12:59     paid       1886.0   21.09     2331.44      2331.44  \n",
       "2                 NaT  default      39802.0  444.99    42237.09      4147.27  \n",
       "3 2020-01-28 18:09:12     paid       5114.0   57.17     5554.72      5554.72  \n",
       "4 2020-03-14 17:28:24     paid      22153.0  247.67    27385.10     27385.10  "
      ]
     },
     "execution_count": 11,
     "metadata": {},
     "output_type": "execute_result"
    }
   ],
   "source": [
    "# Display the first few rows of the Loans DataFrame\n",
    "print(\"\\nLoans Data:\")\n",
    "loans_df.head()"
   ]
  },
  {
   "cell_type": "code",
   "execution_count": 12,
   "metadata": {},
   "outputs": [
    {
     "name": "stdout",
     "output_type": "stream",
     "text": [
      "\n",
      "Loans Data Statistics:\n"
     ]
    },
    {
     "data": {
      "text/html": [
       "<div>\n",
       "<style scoped>\n",
       "    .dataframe tbody tr th:only-of-type {\n",
       "        vertical-align: middle;\n",
       "    }\n",
       "\n",
       "    .dataframe tbody tr th {\n",
       "        vertical-align: top;\n",
       "    }\n",
       "\n",
       "    .dataframe thead th {\n",
       "        text-align: right;\n",
       "    }\n",
       "</style>\n",
       "<table border=\"1\" class=\"dataframe\">\n",
       "  <thead>\n",
       "    <tr style=\"text-align: right;\">\n",
       "      <th></th>\n",
       "      <th>user_id</th>\n",
       "      <th>loan_id</th>\n",
       "      <th>created_at</th>\n",
       "      <th>due_at</th>\n",
       "      <th>paid_at</th>\n",
       "      <th>loan_amount</th>\n",
       "      <th>tax</th>\n",
       "      <th>due_amount</th>\n",
       "      <th>amount_paid</th>\n",
       "    </tr>\n",
       "  </thead>\n",
       "  <tbody>\n",
       "    <tr>\n",
       "      <th>count</th>\n",
       "      <td>150708.000000</td>\n",
       "      <td>150708.000000</td>\n",
       "      <td>150708</td>\n",
       "      <td>150708</td>\n",
       "      <td>89595</td>\n",
       "      <td>150708.000000</td>\n",
       "      <td>150708.000000</td>\n",
       "      <td>150708.000000</td>\n",
       "      <td>150708.000000</td>\n",
       "    </tr>\n",
       "    <tr>\n",
       "      <th>mean</th>\n",
       "      <td>45079.625056</td>\n",
       "      <td>75354.500000</td>\n",
       "      <td>2023-04-11 23:33:29.043341824</td>\n",
       "      <td>2023-07-10 23:33:29.043341824</td>\n",
       "      <td>2023-01-28 19:17:35.457838080</td>\n",
       "      <td>25207.486789</td>\n",
       "      <td>281.819697</td>\n",
       "      <td>28798.309845</td>\n",
       "      <td>22969.777727</td>\n",
       "    </tr>\n",
       "    <tr>\n",
       "      <th>min</th>\n",
       "      <td>1.000000</td>\n",
       "      <td>1.000000</td>\n",
       "      <td>2020-01-06 08:58:24</td>\n",
       "      <td>2020-04-05 08:58:24</td>\n",
       "      <td>2020-01-28 18:09:12</td>\n",
       "      <td>250.000000</td>\n",
       "      <td>2.800000</td>\n",
       "      <td>265.290000</td>\n",
       "      <td>0.020000</td>\n",
       "    </tr>\n",
       "    <tr>\n",
       "      <th>25%</th>\n",
       "      <td>22694.750000</td>\n",
       "      <td>37677.750000</td>\n",
       "      <td>2022-11-25 11:20:06.249999872</td>\n",
       "      <td>2023-02-23 11:20:06.249999872</td>\n",
       "      <td>2022-08-22 01:36:23</td>\n",
       "      <td>7143.000000</td>\n",
       "      <td>79.860000</td>\n",
       "      <td>8121.617500</td>\n",
       "      <td>4761.517500</td>\n",
       "    </tr>\n",
       "    <tr>\n",
       "      <th>50%</th>\n",
       "      <td>45007.000000</td>\n",
       "      <td>75354.500000</td>\n",
       "      <td>2023-07-30 23:23:02</td>\n",
       "      <td>2023-10-28 23:23:02</td>\n",
       "      <td>2023-04-29 20:36:53</td>\n",
       "      <td>18929.000000</td>\n",
       "      <td>211.630000</td>\n",
       "      <td>21569.820000</td>\n",
       "      <td>14810.720000</td>\n",
       "    </tr>\n",
       "    <tr>\n",
       "      <th>75%</th>\n",
       "      <td>67620.250000</td>\n",
       "      <td>113031.250000</td>\n",
       "      <td>2023-11-22 05:40:47.500000</td>\n",
       "      <td>2024-02-20 05:40:47.500000</td>\n",
       "      <td>2023-09-17 06:38:13.500000</td>\n",
       "      <td>38367.250000</td>\n",
       "      <td>428.942500</td>\n",
       "      <td>43702.255000</td>\n",
       "      <td>34393.125000</td>\n",
       "    </tr>\n",
       "    <tr>\n",
       "      <th>max</th>\n",
       "      <td>90000.000000</td>\n",
       "      <td>150708.000000</td>\n",
       "      <td>2024-01-24 23:59:01</td>\n",
       "      <td>2024-04-23 23:59:01</td>\n",
       "      <td>2024-01-24 22:23:07</td>\n",
       "      <td>99776.000000</td>\n",
       "      <td>1115.500000</td>\n",
       "      <td>122087.610000</td>\n",
       "      <td>122066.590000</td>\n",
       "    </tr>\n",
       "    <tr>\n",
       "      <th>std</th>\n",
       "      <td>25957.238289</td>\n",
       "      <td>43505.796522</td>\n",
       "      <td>NaN</td>\n",
       "      <td>NaN</td>\n",
       "      <td>NaN</td>\n",
       "      <td>21914.750955</td>\n",
       "      <td>245.006920</td>\n",
       "      <td>25147.649870</td>\n",
       "      <td>23217.838676</td>\n",
       "    </tr>\n",
       "  </tbody>\n",
       "</table>\n",
       "</div>"
      ],
      "text/plain": [
       "             user_id        loan_id                     created_at  \\\n",
       "count  150708.000000  150708.000000                         150708   \n",
       "mean    45079.625056   75354.500000  2023-04-11 23:33:29.043341824   \n",
       "min         1.000000       1.000000            2020-01-06 08:58:24   \n",
       "25%     22694.750000   37677.750000  2022-11-25 11:20:06.249999872   \n",
       "50%     45007.000000   75354.500000            2023-07-30 23:23:02   \n",
       "75%     67620.250000  113031.250000     2023-11-22 05:40:47.500000   \n",
       "max     90000.000000  150708.000000            2024-01-24 23:59:01   \n",
       "std     25957.238289   43505.796522                            NaN   \n",
       "\n",
       "                              due_at                        paid_at  \\\n",
       "count                         150708                          89595   \n",
       "mean   2023-07-10 23:33:29.043341824  2023-01-28 19:17:35.457838080   \n",
       "min              2020-04-05 08:58:24            2020-01-28 18:09:12   \n",
       "25%    2023-02-23 11:20:06.249999872            2022-08-22 01:36:23   \n",
       "50%              2023-10-28 23:23:02            2023-04-29 20:36:53   \n",
       "75%       2024-02-20 05:40:47.500000     2023-09-17 06:38:13.500000   \n",
       "max              2024-04-23 23:59:01            2024-01-24 22:23:07   \n",
       "std                              NaN                            NaN   \n",
       "\n",
       "         loan_amount            tax     due_amount    amount_paid  \n",
       "count  150708.000000  150708.000000  150708.000000  150708.000000  \n",
       "mean    25207.486789     281.819697   28798.309845   22969.777727  \n",
       "min       250.000000       2.800000     265.290000       0.020000  \n",
       "25%      7143.000000      79.860000    8121.617500    4761.517500  \n",
       "50%     18929.000000     211.630000   21569.820000   14810.720000  \n",
       "75%     38367.250000     428.942500   43702.255000   34393.125000  \n",
       "max     99776.000000    1115.500000  122087.610000  122066.590000  \n",
       "std     21914.750955     245.006920   25147.649870   23217.838676  "
      ]
     },
     "execution_count": 12,
     "metadata": {},
     "output_type": "execute_result"
    }
   ],
   "source": [
    "# Basic statistics and information about the Loans DataFrame\n",
    "print(\"\\nLoans Data Statistics:\")\n",
    "loans_df.describe()"
   ]
  },
  {
   "cell_type": "markdown",
   "metadata": {},
   "source": [
    "## Analysis - Identifying the Best Month for Loan Issuance"
   ]
  },
  {
   "cell_type": "code",
   "execution_count": 13,
   "metadata": {},
   "outputs": [
    {
     "data": {
      "text/plain": [
       "month                 2023-12\n",
       "total_quantity          17351\n",
       "total_amount      442464966.0\n",
       "Name: 47, dtype: object"
      ]
     },
     "execution_count": 13,
     "metadata": {},
     "output_type": "execute_result"
    }
   ],
   "source": [
    "# Group loans by month and calculate total quantity and amount lent in each month\n",
    "loans_df['month'] = loans_df['created_at'].dt.to_period('M')\n",
    "monthly_loan_stats = loans_df.groupby('month').agg(\n",
    "    total_quantity=('loan_id', 'count'),\n",
    "    total_amount=('loan_amount', 'sum')\n",
    ").reset_index()\n",
    "\n",
    "# Determine the month with the highest loan issuance\n",
    "best_month = monthly_loan_stats.loc[monthly_loan_stats['total_amount'].idxmax()]\n",
    "\n",
    "best_month"
   ]
  },
  {
   "cell_type": "markdown",
   "metadata": {},
   "source": [
    "\n",
    "The analysis indicates that December 2023 had the highest loan issuance, with a total of 17,351 loans issued and a total amount lent of $442,464,966.00. This information provides insights into the peak activity of loan issuance, which can be further analyzed to understand potential factors contributing to the increased demand for loans during that month."
   ]
  },
  {
   "cell_type": "markdown",
   "metadata": {},
   "source": [
    "## Analysis - Identifying the Batch with the Best Overall Adherence"
   ]
  },
  {
   "cell_type": "code",
   "execution_count": 19,
   "metadata": {},
   "outputs": [
    {
     "data": {
      "text/plain": [
       "batch        2.000000\n",
       "adherence    0.602913\n",
       "Name: 1, dtype: float64"
      ]
     },
     "execution_count": 19,
     "metadata": {},
     "output_type": "execute_result"
    }
   ],
   "source": [
    "# Merge clients_df with loans_df on 'user_id'\n",
    "merged_df = pd.merge(loans_df, clients_df[['user_id', 'batch']], on='user_id', how='left')\n",
    "\n",
    "# Group by 'batch' and calculate adherence directly on the 'status' column\n",
    "batch_adherence = merged_df.groupby('batch')['status'].apply(lambda x: (x == 'paid').sum() / len(x)).reset_index()\n",
    "batch_adherence.columns = ['batch', 'adherence']\n",
    "\n",
    "# Identify the batch with the highest adherence rate\n",
    "best_batch = batch_adherence.loc[batch_adherence['adherence'].idxmax()]\n",
    "\n",
    "best_batch"
   ]
  },
  {
   "cell_type": "markdown",
   "metadata": {},
   "source": [
    "the result indicates that batch number 2 had the highest proportion of clients who successfully repaid their loans compared to the other batches, with an adherence rate of approximately 60.29%. This suggests that clients in batch 2 demonstrated better adherence to loan repayment obligations compared to clients in other batches."
   ]
  },
  {
   "cell_type": "markdown",
   "metadata": {},
   "source": [
    "## Analysis - Examining the Relationship Between Interest Rates and Loan Outcomes"
   ]
  },
  {
   "cell_type": "markdown",
   "metadata": {},
   "source": [
    "## Analysis - Ranking the Best and Worst Clients"
   ]
  },
  {
   "cell_type": "markdown",
   "metadata": {},
   "source": [
    "## Analysis - Determining Default Rate by Month and Batch"
   ]
  },
  {
   "cell_type": "markdown",
   "metadata": {},
   "source": [
    "## Analysis - Assessing the Profitability of the Operation"
   ]
  }
 ],
 "metadata": {
  "kernelspec": {
   "display_name": ".venv",
   "language": "python",
   "name": "python3"
  },
  "language_info": {
   "codemirror_mode": {
    "name": "ipython",
    "version": 3
   },
   "file_extension": ".py",
   "mimetype": "text/x-python",
   "name": "python",
   "nbconvert_exporter": "python",
   "pygments_lexer": "ipython3",
   "version": "3.11.3"
  }
 },
 "nbformat": 4,
 "nbformat_minor": 2
}
